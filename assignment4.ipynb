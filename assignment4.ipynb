{
 "cells": [
  {
   "cell_type": "markdown",
   "metadata": {
    "deletable": false,
    "editable": false,
    "nbgrader": {
     "cell_type": "markdown",
     "checksum": "aaed95905b30f68e35a129a24a1694d4",
     "grade": false,
     "grade_id": "cell-bbf15def93c1e720",
     "locked": true,
     "schema_version": 3,
     "solution": false,
     "task": false
    }
   },
   "source": [
    "# Assignment 4\n",
    "This week's assignment is a little different! First, it will be done in your discussion group groups. Not in your discussion section, but in the groups you have formed for the discussions. In addition, it will require a bit of independent learning -- you're going to have to check out some of the pandas APIs to figure out how to deal with the intricacies of the data.\n",
    "\n",
    "As promised, the data you will be using is the FOIA data which I gather from the city of Ann Arbor on parking tickets. The repository you need to clone from is here: https://github.com/cab938/a2tickets\n",
    "\n",
    "The repository is made up of a set of Excel files which you're going to have to figure out how to load into a pandas `DataFrame` (time to check the APIs!). The files may have more than one sheet in them (who knows why!?). I'd like you to answer the following questions for me."
   ]
  },
  {
   "cell_type": "markdown",
   "metadata": {
    "deletable": false,
    "editable": false,
    "nbgrader": {
     "cell_type": "markdown",
     "checksum": "338719887b33b34ba2a616b1f8d46aee",
     "grade": false,
     "grade_id": "cell-15eae2d4e3bcb837",
     "locked": true,
     "schema_version": 3,
     "solution": false,
     "task": false
    }
   },
   "source": [
    "## Hints\n",
    "This assignment is long. You have a big team. Reduce the assignment by getting individuals to work on portions of it, they are intentionally loosley coupled and most of your work does not need to happen on the full `DataFrame` until the end.\n",
    "\n",
    "Also, free riders who don't do their work exist. You unfortunatly have to deal what that through social protocols, this is a team effort. I recommend meeting up on Monday at the latest to determine who didn't get things done so you can recover before the deadline.\n",
    "\n",
    "The person in your group who has the last name closest to the beginning of the alphabet should hand in the assignment. It should include a list of the uniqunames of everyone in your group."
   ]
  },
  {
   "cell_type": "markdown",
   "metadata": {
    "deletable": false,
    "editable": false,
    "nbgrader": {
     "cell_type": "markdown",
     "checksum": "f4ea48be38c3ea2e7c51b60d5ebb12b3",
     "grade": false,
     "grade_id": "cell-fc85a620d81f6455",
     "locked": true,
     "schema_version": 3,
     "solution": false,
     "task": false
    }
   },
   "source": [
    "## Question 1 (10%)\n",
    "First, write the code to create a single `DataFrame` object in a function called `load_ticket_data()`. This function should return the full dataframe and take no parameters (you can assume the ticket files are in the same directory as your assignment notebook)."
   ]
  },
  {
   "cell_type": "code",
   "execution_count": null,
   "metadata": {
    "deletable": false,
    "nbgrader": {
     "cell_type": "code",
     "checksum": "5eebd853a4e225ef315eafa224f3fb59",
     "grade": true,
     "grade_id": "cell-e3aeb9fe5165e102",
     "locked": false,
     "points": 8,
     "schema_version": 3,
     "solution": true,
     "task": false
    }
   },
   "outputs": [],
   "source": [
    "# YOUR CODE HERE\n",
    "raise NotImplementedError()"
   ]
  },
  {
   "cell_type": "markdown",
   "metadata": {
    "deletable": false,
    "editable": false,
    "nbgrader": {
     "cell_type": "markdown",
     "checksum": "3399ac081c8cb12151c0abf8e26e024d",
     "grade": false,
     "grade_id": "cell-e93a7411b7060a51",
     "locked": true,
     "schema_version": 3,
     "solution": false,
     "task": false
    }
   },
   "source": [
    "## Question 2 (15%)\n",
    "Write a function called `generate_descriptors(df)` which takes in the dataframe you loaded and prints out the list of all unique ticket descriptions and how frequent they are. E.g. it will tell you how many \"HANDICAP\" or \"NO PERMITS U/M\" tickets have been issued."
   ]
  },
  {
   "cell_type": "code",
   "execution_count": null,
   "metadata": {
    "deletable": false,
    "nbgrader": {
     "cell_type": "code",
     "checksum": "8dd2fe58089f8ea4e36b264b7b8e9d05",
     "grade": true,
     "grade_id": "cell-d4be3c5b7a6d3ee0",
     "locked": false,
     "points": 12,
     "schema_version": 3,
     "solution": true,
     "task": false
    }
   },
   "outputs": [],
   "source": [
    "# YOUR CODE HERE\n",
    "raise NotImplementedError()"
   ]
  },
  {
   "cell_type": "markdown",
   "metadata": {
    "deletable": false,
    "editable": false,
    "nbgrader": {
     "cell_type": "markdown",
     "checksum": "1b1e5b0d9e2623d665fb30c8d9d43c10",
     "grade": false,
     "grade_id": "cell-17f45e598a09e1f9",
     "locked": true,
     "schema_version": 3,
     "solution": false,
     "task": false
    }
   },
   "source": [
    "## Question 3 (10%)\n",
    "What is daily average fine given out?"
   ]
  },
  {
   "cell_type": "code",
   "execution_count": null,
   "metadata": {
    "deletable": false,
    "nbgrader": {
     "cell_type": "code",
     "checksum": "6906ce5a534c634b766637f8e0d9b885",
     "grade": true,
     "grade_id": "cell-9e7d43b2b0ae8d27",
     "locked": false,
     "points": 8,
     "schema_version": 3,
     "solution": true,
     "task": false
    }
   },
   "outputs": [],
   "source": [
    "# YOUR CODE HERE\n",
    "raise NotImplementedError()"
   ]
  },
  {
   "cell_type": "markdown",
   "metadata": {
    "deletable": false,
    "editable": false,
    "nbgrader": {
     "cell_type": "markdown",
     "checksum": "45a5a57945c4cf3ae40a35d8e524a910",
     "grade": false,
     "grade_id": "cell-22ee3e7e62663afc",
     "locked": true,
     "schema_version": 3,
     "solution": false,
     "task": false
    }
   },
   "source": [
    "## Question 4 (5%)\n",
    "What is the total amount of fines given out?"
   ]
  },
  {
   "cell_type": "code",
   "execution_count": null,
   "metadata": {
    "deletable": false,
    "nbgrader": {
     "cell_type": "code",
     "checksum": "78b89ee83461a9380ee9e38c171b35eb",
     "grade": true,
     "grade_id": "cell-ab723feae932b6dc",
     "locked": false,
     "points": 4,
     "schema_version": 3,
     "solution": true,
     "task": false
    }
   },
   "outputs": [],
   "source": [
    "# YOUR CODE HERE\n",
    "raise NotImplementedError()"
   ]
  },
  {
   "cell_type": "markdown",
   "metadata": {
    "deletable": false,
    "editable": false,
    "nbgrader": {
     "cell_type": "markdown",
     "checksum": "508ce53069f4b4328631f577bd38d578",
     "grade": false,
     "grade_id": "cell-f3afecea8f50cb86",
     "locked": true,
     "schema_version": 3,
     "solution": false,
     "task": false
    }
   },
   "source": [
    "## Question 5 (15%)\n",
    "Modify your `DataFrame` to have a multiindex where the outermost level is the date/time the ticket was given and the inner most level is the unique ticket identifier"
   ]
  },
  {
   "cell_type": "code",
   "execution_count": null,
   "metadata": {
    "deletable": false,
    "nbgrader": {
     "cell_type": "code",
     "checksum": "806e896f7397850ebd5ef849f40d7c78",
     "grade": true,
     "grade_id": "cell-f2e3725dfc5b82d4",
     "locked": false,
     "points": 12,
     "schema_version": 3,
     "solution": true,
     "task": false
    }
   },
   "outputs": [],
   "source": [
    "# YOUR CODE HERE\n",
    "raise NotImplementedError()"
   ]
  },
  {
   "cell_type": "markdown",
   "metadata": {
    "deletable": false,
    "editable": false,
    "nbgrader": {
     "cell_type": "markdown",
     "checksum": "5af6cf952a0d509b0b0ddc733a6f71cb",
     "grade": false,
     "grade_id": "cell-b119732ba8129c01",
     "locked": true,
     "schema_version": 3,
     "solution": false,
     "task": false
    }
   },
   "source": [
    "## Question 6 (5%)\n",
    "What is the most common make of car which received tickets from the state of NY?"
   ]
  },
  {
   "cell_type": "code",
   "execution_count": null,
   "metadata": {
    "deletable": false,
    "nbgrader": {
     "cell_type": "code",
     "checksum": "d753ab7e5feb1bb114c7593e54ce5042",
     "grade": true,
     "grade_id": "cell-63f9c3ec0803d69f",
     "locked": false,
     "points": 4,
     "schema_version": 3,
     "solution": true,
     "task": false
    }
   },
   "outputs": [],
   "source": [
    "# YOUR CODE HERE\n",
    "raise NotImplementedError()"
   ]
  },
  {
   "cell_type": "markdown",
   "metadata": {
    "deletable": false,
    "editable": false,
    "nbgrader": {
     "cell_type": "markdown",
     "checksum": "86dfa3a29d9c71b394c5fbe062a4b5ad",
     "grade": false,
     "grade_id": "cell-56602f98f16a722b",
     "locked": true,
     "schema_version": 3,
     "solution": false,
     "task": false
    }
   },
   "source": [
    "## Question 7 (10%)\n",
    "Which officer gave out the most number of tickets in each year, and how many tickets did they give out?"
   ]
  },
  {
   "cell_type": "code",
   "execution_count": null,
   "metadata": {
    "deletable": false,
    "nbgrader": {
     "cell_type": "code",
     "checksum": "504737785628c480d82f405ace9518ac",
     "grade": true,
     "grade_id": "cell-afdf228bf9c2e71a",
     "locked": false,
     "points": 8,
     "schema_version": 3,
     "solution": true,
     "task": false
    }
   },
   "outputs": [],
   "source": [
    "# YOUR CODE HERE\n",
    "raise NotImplementedError()"
   ]
  },
  {
   "cell_type": "markdown",
   "metadata": {
    "deletable": false,
    "editable": false,
    "nbgrader": {
     "cell_type": "markdown",
     "checksum": "de8620adff3f773924e1d49eff7bb3b8",
     "grade": false,
     "grade_id": "cell-fa8c103a22405ed2",
     "locked": true,
     "schema_version": 3,
     "solution": false,
     "task": false
    }
   },
   "source": [
    "## Question 8 (15%)\n",
    "Starting in 2004 Michigan moved to issuing plates with the format of ABC1234. That got me thinking, I wonder how many vanity plate holders there are in our dataset? Count for me the number of Michigan vehicles which have received a ticket which are in the following formats:\n",
    "- ABC1234\n",
    "- ABC123\n",
    "- 123ABC\n",
    "- Something else"
   ]
  },
  {
   "cell_type": "code",
   "execution_count": null,
   "metadata": {
    "deletable": false,
    "nbgrader": {
     "cell_type": "code",
     "checksum": "dc5316832b476cbe916e5c4d238e2ad6",
     "grade": true,
     "grade_id": "cell-d05c4f0e900a7812",
     "locked": false,
     "points": 12,
     "schema_version": 3,
     "solution": true,
     "task": false
    }
   },
   "outputs": [],
   "source": [
    "# YOUR CODE HERE\n",
    "raise NotImplementedError()"
   ]
  },
  {
   "cell_type": "markdown",
   "metadata": {
    "deletable": false,
    "editable": false,
    "nbgrader": {
     "cell_type": "markdown",
     "checksum": "cdbe220732a7fe61eff4e31e72716540",
     "grade": false,
     "grade_id": "cell-daccee095e0c207d",
     "locked": true,
     "schema_version": 3,
     "solution": false,
     "task": false
    }
   },
   "source": [
    "## Question 9 (10%)\n",
    "A buddy of mine who is kind of lame liked to play a game on the road that went like this, each time you see a license plate you add up in your head the value of the plate, where numbers are worth their face value, and letters are worth whatever their position is in the alphabet. For instance, a plate with `AAA111` would be worth six points, `1+1+1+1+1+1`, but the plate `ABC123` would be worth 12 points, as in`1+2+3+1+2+3`. Implement this algorithm and add a new column to the `DataFrame` called `plate_points` which is the points for each plate in the dataset."
   ]
  },
  {
   "cell_type": "code",
   "execution_count": null,
   "metadata": {
    "deletable": false,
    "nbgrader": {
     "cell_type": "code",
     "checksum": "909c271cf1bb2b7bfb79d061a7c46f2d",
     "grade": true,
     "grade_id": "cell-cc1d6adafebe9efa",
     "locked": false,
     "points": 8,
     "schema_version": 3,
     "solution": true,
     "task": false
    }
   },
   "outputs": [],
   "source": [
    "# YOUR CODE HERE\n",
    "raise NotImplementedError()"
   ]
  },
  {
   "cell_type": "markdown",
   "metadata": {
    "deletable": false,
    "editable": false,
    "nbgrader": {
     "cell_type": "markdown",
     "checksum": "a509ecb2faab02a1f73fd9001ae75f8d",
     "grade": false,
     "grade_id": "cell-d3dcb60c106ee978",
     "locked": true,
     "schema_version": 3,
     "solution": false,
     "task": false
    }
   },
   "source": [
    "## Question 10 (5% - hard)\n",
    "Use your inginuity and create two new columns `lat` and `lon` which hold the latitude and longitude for the address for each ticket. You have flexibility to show me how you think it should be done, keeping in mind addresses won't be perfect (most are \"per block\") and there are various ways to solve this (and all involve using outside APIs or services)."
   ]
  },
  {
   "cell_type": "code",
   "execution_count": null,
   "metadata": {
    "deletable": false,
    "nbgrader": {
     "cell_type": "code",
     "checksum": "8dd05ef017a6b9c96ca42fea26ade0cf",
     "grade": true,
     "grade_id": "cell-524d9190d3ba983e",
     "locked": false,
     "points": 4,
     "schema_version": 3,
     "solution": true,
     "task": false
    }
   },
   "outputs": [],
   "source": [
    "# YOUR CODE HERE\n",
    "raise NotImplementedError()"
   ]
  }
 ],
 "metadata": {
  "kernelspec": {
   "display_name": "Python 3",
   "language": "python",
   "name": "python3"
  },
  "language_info": {
   "codemirror_mode": {
    "name": "ipython",
    "version": 3
   },
   "file_extension": ".py",
   "mimetype": "text/x-python",
   "name": "python",
   "nbconvert_exporter": "python",
   "pygments_lexer": "ipython3",
   "version": "3.6.5"
  }
 },
 "nbformat": 4,
 "nbformat_minor": 4
}
