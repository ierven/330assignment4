{
 "cells": [
  {
   "cell_type": "markdown",
   "metadata": {
    "deletable": false,
    "editable": false,
    "nbgrader": {
     "cell_type": "markdown",
     "checksum": "aaed95905b30f68e35a129a24a1694d4",
     "grade": false,
     "grade_id": "cell-bbf15def93c1e720",
     "locked": true,
     "schema_version": 3,
     "solution": false,
     "task": false
    }
   },
   "source": [
    "# Assignment 4\n",
    "This week's assignment is a little different! First, it will be done in your discussion group groups. Not in your discussion section, but in the groups you have formed for the discussions. In addition, it will require a bit of independent learning -- you're going to have to check out some of the pandas APIs to figure out how to deal with the intricacies of the data.\n",
    "\n",
    "As promised, the data you will be using is the FOIA data which I gather from the city of Ann Arbor on parking tickets. The repository you need to clone from is here: https://github.com/cab938/a2tickets\n",
    "\n",
    "The repository is made up of a set of Excel files which you're going to have to figure out how to load into a pandas `DataFrame` (time to check the APIs!). The files may have more than one sheet in them (who knows why!?). I'd like you to answer the following questions for me."
   ]
  },
  {
   "cell_type": "markdown",
   "metadata": {
    "deletable": false,
    "editable": false,
    "nbgrader": {
     "cell_type": "markdown",
     "checksum": "338719887b33b34ba2a616b1f8d46aee",
     "grade": false,
     "grade_id": "cell-15eae2d4e3bcb837",
     "locked": true,
     "schema_version": 3,
     "solution": false,
     "task": false
    }
   },
   "source": [
    "## Hints\n",
    "This assignment is long. You have a big team. Reduce the assignment by getting individuals to work on portions of it, they are intentionally loosley coupled and most of your work does not need to happen on the full `DataFrame` until the end.\n",
    "\n",
    "Also, free riders who don't do their work exist. You unfortunatly have to deal what that through social protocols, this is a team effort. I recommend meeting up on Monday at the latest to determine who didn't get things done so you can recover before the deadline.\n",
    "\n",
    "The person in your group who has the last name closest to the beginning of the alphabet should hand in the assignment. It should include a list of the uniqunames of everyone in your group."
   ]
  },
  {
   "cell_type": "markdown",
   "metadata": {
    "deletable": false,
    "editable": false,
    "nbgrader": {
     "cell_type": "markdown",
     "checksum": "f4ea48be38c3ea2e7c51b60d5ebb12b3",
     "grade": false,
     "grade_id": "cell-fc85a620d81f6455",
     "locked": true,
     "schema_version": 3,
     "solution": false,
     "task": false
    }
   },
   "source": [
    "## Question 1 (10%)\n",
    "First, write the code to create a single `DataFrame` object in a function called `load_ticket_data()`. This function should return the full dataframe and take no parameters (you can assume the ticket files are in the same directory as your assignment notebook)."
   ]
  },
  {
   "cell_type": "code",
   "execution_count": 11,
   "metadata": {
    "deletable": false,
    "nbgrader": {
     "cell_type": "code",
     "checksum": "5eebd853a4e225ef315eafa224f3fb59",
     "grade": true,
     "grade_id": "cell-e3aeb9fe5165e102",
     "locked": false,
     "points": 8,
     "schema_version": 3,
     "solution": true,
     "task": false
    }
   },
   "outputs": [],
   "source": [
    "import pandas as pd\n",
    "\n",
    "def load_ticket_data():\n",
    "    parking15 = pd.concat(pd.read_excel('a2tickets/AnnArbor-TicketViolation2015.xls', skiprows=[0], sheet_name=None), ignore_index=True, sort=False)\n",
    "    parking16 = pd.concat(pd.read_excel('a2tickets/AnnArbor-TicketViolation2016.xls', skiprows=[0], sheet_name=None), ignore_index=True, sort=False)\n",
    "    parking17 = pd.concat(pd.read_excel('a2tickets/AnnArbor-TicketViolation2017.xls', skiprows=[0], sheet_name=None), ignore_index=True, sort=False)\n",
    "    parking18 = pd.concat(pd.read_excel('a2tickets/AnnArbor-TicketViolation2018.xls', skiprows=[0], sheet_name=None), ignore_index=True, sort=False)\n",
    "    parking19 = pd.concat(pd.read_excel('a2tickets/AnnArbor-TicketViolation2019.xls', skiprows=[0], sheet_name=None), ignore_index=True, sort=False)\n",
    "    parking20 = pd.concat(pd.read_excel('a2tickets/AnnArbor-TicketViolation-jan2020.xls', skiprows=[0], sheet_name=None), ignore_index=True, sort=False)\n",
    "    return pd.concat([parking15, parking16, parking17, parking18, parking19, parking20], ignore_index=True, sort=False)"
   ]
  },
  {
   "cell_type": "code",
   "execution_count": 12,
   "metadata": {},
   "outputs": [
    {
     "data": {
      "text/html": [
       "<div>\n",
       "<style scoped>\n",
       "    .dataframe tbody tr th:only-of-type {\n",
       "        vertical-align: middle;\n",
       "    }\n",
       "\n",
       "    .dataframe tbody tr th {\n",
       "        vertical-align: top;\n",
       "    }\n",
       "\n",
       "    .dataframe thead th {\n",
       "        text-align: right;\n",
       "    }\n",
       "</style>\n",
       "<table border=\"1\" class=\"dataframe\">\n",
       "  <thead>\n",
       "    <tr style=\"text-align: right;\">\n",
       "      <th></th>\n",
       "      <th>Ticket #</th>\n",
       "      <th>Badge</th>\n",
       "      <th>Issue Date</th>\n",
       "      <th>IssueTime</th>\n",
       "      <th>Plate</th>\n",
       "      <th>State</th>\n",
       "      <th>Make</th>\n",
       "      <th>Model</th>\n",
       "      <th>Violation</th>\n",
       "      <th>Description</th>\n",
       "      <th>...</th>\n",
       "      <th>6336</th>\n",
       "      <th>4130019175</th>\n",
       "      <th>832</th>\n",
       "      <th>2019-11-13 00:00:00</th>\n",
       "      <th>1022</th>\n",
       "      <th>DHR7275</th>\n",
       "      <th>CADI</th>\n",
       "      <th>200 BLK OF FIFTH AVE</th>\n",
       "      <th>2876</th>\n",
       "      <th>55</th>\n",
       "    </tr>\n",
       "  </thead>\n",
       "  <tbody>\n",
       "    <tr>\n",
       "      <th>0</th>\n",
       "      <td>H000210594</td>\n",
       "      <td>36</td>\n",
       "      <td>2015-01-01</td>\n",
       "      <td>2214</td>\n",
       "      <td>LAS5658</td>\n",
       "      <td>OH</td>\n",
       "      <td>SUBA</td>\n",
       "      <td>NaN</td>\n",
       "      <td>A04</td>\n",
       "      <td>NO PRKNG ANYTME</td>\n",
       "      <td>...</td>\n",
       "      <td>NaN</td>\n",
       "      <td>NaN</td>\n",
       "      <td>NaN</td>\n",
       "      <td>NaT</td>\n",
       "      <td>NaN</td>\n",
       "      <td>NaN</td>\n",
       "      <td>NaN</td>\n",
       "      <td>NaN</td>\n",
       "      <td>NaN</td>\n",
       "      <td>NaN</td>\n",
       "    </tr>\n",
       "    <tr>\n",
       "      <th>1</th>\n",
       "      <td>2100005782</td>\n",
       "      <td>821</td>\n",
       "      <td>2015-01-02</td>\n",
       "      <td>824</td>\n",
       "      <td>DEZ4465</td>\n",
       "      <td>MI</td>\n",
       "      <td>FORD</td>\n",
       "      <td>NaN</td>\n",
       "      <td>A01</td>\n",
       "      <td>EXPIRED METER</td>\n",
       "      <td>...</td>\n",
       "      <td>NaN</td>\n",
       "      <td>NaN</td>\n",
       "      <td>NaN</td>\n",
       "      <td>NaT</td>\n",
       "      <td>NaN</td>\n",
       "      <td>NaN</td>\n",
       "      <td>NaN</td>\n",
       "      <td>NaN</td>\n",
       "      <td>NaN</td>\n",
       "      <td>NaN</td>\n",
       "    </tr>\n",
       "    <tr>\n",
       "      <th>2</th>\n",
       "      <td>2110008524</td>\n",
       "      <td>826</td>\n",
       "      <td>2015-01-02</td>\n",
       "      <td>1719</td>\n",
       "      <td>DCM1327</td>\n",
       "      <td>MI</td>\n",
       "      <td>SATU</td>\n",
       "      <td>NaN</td>\n",
       "      <td>A01</td>\n",
       "      <td>EXPIRED METER</td>\n",
       "      <td>...</td>\n",
       "      <td>NaN</td>\n",
       "      <td>NaN</td>\n",
       "      <td>NaN</td>\n",
       "      <td>NaT</td>\n",
       "      <td>NaN</td>\n",
       "      <td>NaN</td>\n",
       "      <td>NaN</td>\n",
       "      <td>NaN</td>\n",
       "      <td>NaN</td>\n",
       "      <td>NaN</td>\n",
       "    </tr>\n",
       "    <tr>\n",
       "      <th>3</th>\n",
       "      <td>2110008525</td>\n",
       "      <td>826</td>\n",
       "      <td>2015-01-02</td>\n",
       "      <td>1725</td>\n",
       "      <td>BAX385</td>\n",
       "      <td>IA</td>\n",
       "      <td>CHEV</td>\n",
       "      <td>NaN</td>\n",
       "      <td>A01</td>\n",
       "      <td>EXPIRED METER</td>\n",
       "      <td>...</td>\n",
       "      <td>NaN</td>\n",
       "      <td>NaN</td>\n",
       "      <td>NaN</td>\n",
       "      <td>NaT</td>\n",
       "      <td>NaN</td>\n",
       "      <td>NaN</td>\n",
       "      <td>NaN</td>\n",
       "      <td>NaN</td>\n",
       "      <td>NaN</td>\n",
       "      <td>NaN</td>\n",
       "    </tr>\n",
       "    <tr>\n",
       "      <th>4</th>\n",
       "      <td>2100005834</td>\n",
       "      <td>821</td>\n",
       "      <td>2015-01-02</td>\n",
       "      <td>1344</td>\n",
       "      <td>2LEH1</td>\n",
       "      <td>MI</td>\n",
       "      <td>FORD</td>\n",
       "      <td>NaN</td>\n",
       "      <td>A04</td>\n",
       "      <td>NO PRKNG ANYTME</td>\n",
       "      <td>...</td>\n",
       "      <td>NaN</td>\n",
       "      <td>NaN</td>\n",
       "      <td>NaN</td>\n",
       "      <td>NaT</td>\n",
       "      <td>NaN</td>\n",
       "      <td>NaN</td>\n",
       "      <td>NaN</td>\n",
       "      <td>NaN</td>\n",
       "      <td>NaN</td>\n",
       "      <td>NaN</td>\n",
       "    </tr>\n",
       "  </tbody>\n",
       "</table>\n",
       "<p>5 rows × 108 columns</p>\n",
       "</div>"
      ],
      "text/plain": [
       "     Ticket # Badge Issue Date  IssueTime    Plate State  Make Model  \\\n",
       "0  H000210594    36  2015-01-01      2214  LAS5658    OH  SUBA   NaN   \n",
       "1  2100005782   821  2015-01-02       824  DEZ4465    MI  FORD   NaN   \n",
       "2  2110008524   826  2015-01-02      1719  DCM1327    MI  SATU   NaN   \n",
       "3  2110008525   826  2015-01-02      1725   BAX385    IA  CHEV   NaN   \n",
       "4  2100005834   821  2015-01-02      1344    2LEH1    MI  FORD   NaN   \n",
       "\n",
       "  Violation      Description  ... 6336 4130019175  832  2019-11-13 00:00:00  \\\n",
       "0       A04  NO PRKNG ANYTME  ...  NaN        NaN  NaN                  NaT   \n",
       "1       A01    EXPIRED METER  ...  NaN        NaN  NaN                  NaT   \n",
       "2       A01    EXPIRED METER  ...  NaN        NaN  NaN                  NaT   \n",
       "3       A01    EXPIRED METER  ...  NaN        NaN  NaN                  NaT   \n",
       "4       A04  NO PRKNG ANYTME  ...  NaN        NaN  NaN                  NaT   \n",
       "\n",
       "  1022 DHR7275 CADI  200 BLK OF FIFTH AVE 2876  55  \n",
       "0  NaN     NaN  NaN                   NaN  NaN NaN  \n",
       "1  NaN     NaN  NaN                   NaN  NaN NaN  \n",
       "2  NaN     NaN  NaN                   NaN  NaN NaN  \n",
       "3  NaN     NaN  NaN                   NaN  NaN NaN  \n",
       "4  NaN     NaN  NaN                   NaN  NaN NaN  \n",
       "\n",
       "[5 rows x 108 columns]"
      ]
     },
     "execution_count": 12,
     "metadata": {},
     "output_type": "execute_result"
    }
   ],
   "source": [
    "df = load_ticket_data()\n",
    "df.head()"
   ]
  },
  {
   "cell_type": "markdown",
   "metadata": {
    "deletable": false,
    "editable": false,
    "nbgrader": {
     "cell_type": "markdown",
     "checksum": "3399ac081c8cb12151c0abf8e26e024d",
     "grade": false,
     "grade_id": "cell-e93a7411b7060a51",
     "locked": true,
     "schema_version": 3,
     "solution": false,
     "task": false
    }
   },
   "source": [
    "## Question 2 (15%)\n",
    "Write a function called `generate_descriptors(df)` which takes in the dataframe you loaded and prints out the list of all unique ticket descriptions and how frequent they are. E.g. it will tell you how many \"HANDICAP\" or \"NO PERMITS U/M\" tickets have been issued."
   ]
  },
  {
   "cell_type": "code",
   "execution_count": 13,
   "metadata": {
    "deletable": false,
    "nbgrader": {
     "cell_type": "code",
     "checksum": "8dd2fe58089f8ea4e36b264b7b8e9d05",
     "grade": true,
     "grade_id": "cell-d4be3c5b7a6d3ee0",
     "locked": false,
     "points": 12,
     "schema_version": 3,
     "solution": true,
     "task": false
    }
   },
   "outputs": [],
   "source": [
    "df = load_ticket_data()\n",
    "def generate_descriptors(df):\n",
    "    tickets = df[' Description'].unique().tolist()[:-1]\n",
    "    description = {}\n",
    "    for ticket in tickets:\n",
    "        description[ticket] = df[df[' Description'] == (ticket)].shape[0]\n",
    "        \n",
    "    return description"
   ]
  },
  {
   "cell_type": "code",
   "execution_count": 14,
   "metadata": {},
   "outputs": [
    {
     "data": {
      "text/plain": [
       "{'NO PRKNG ANYTME': 10373,\n",
       " 'EXPIRED METER': 194575,\n",
       " 'LOADING ZONE': 2437,\n",
       " 'IMPROPER PARK': 1349,\n",
       " 'NO PERMIT CITY': 751,\n",
       " nan: 0,\n",
       " 'PARKED ON WALK': 717,\n",
       " \"15' FIRE HYDRAN\": 1465,\n",
       " 'OTHER': 24869,\n",
       " 'LEFT TO CURB': 654,\n",
       " 'HANDICAP': 3252,\n",
       " 'NO PARKING': 5256,\n",
       " 'U/M VEHICLES': 57,\n",
       " 'PRK OVR LGL LMT': 14427,\n",
       " 'AHEAD SET/BACK': 451,\n",
       " 'NO PARK ANYTIME': 1832,\n",
       " 'NO PERMITS U/M': 56557,\n",
       " 'BACKED IN STALL': 612,\n",
       " '12 INCHES CURB': 223,\n",
       " 'LAWN EXTENSION': 33,\n",
       " 'ACROSS LINE': 2150,\n",
       " 'DOUBLE PARK': 92,\n",
       " 'BLOCKING ALLEY': 120,\n",
       " 'SNOW REMOVAL': 57,\n",
       " \"BLOCKING D'WAY\": 3035,\n",
       " 'TAXI STAND': 1551,\n",
       " 'PARKING ON WALK': 469,\n",
       " 'PARK UPON LINE': 99,\n",
       " 'OVER 48 HOURS': 352,\n",
       " 'FIRE LANE': 524,\n",
       " 'NO STOPPING': 100,\n",
       " 'BUS STOP': 43,\n",
       " 'ABANDONED VEHIC': 189,\n",
       " 'BLOCKING TRAFFI': 70,\n",
       " 'MOTORCYCLES': 113,\n",
       " 'BLOCKING CRSSWA': 54,\n",
       " \"PARK DRV'WAY\": 559,\n",
       " 'PRIVATE PARK': 82,\n",
       " 'BLOCK CROSSWALK': 11,\n",
       " 'PARKED/DRIVEWAY': 5,\n",
       " 'OVER 12 INCHES': 20,\n",
       " 'STREET MAINTENA': 881,\n",
       " 'ODD/EVEN PARK': 14,\n",
       " 'NO PARK STADIUM DAYS': 39,\n",
       " 'OVER LEGAL TIME LIMIT': 2872}"
      ]
     },
     "execution_count": 14,
     "metadata": {},
     "output_type": "execute_result"
    }
   ],
   "source": [
    "generate_descriptors(df)"
   ]
  },
  {
   "cell_type": "markdown",
   "metadata": {
    "deletable": false,
    "editable": false,
    "nbgrader": {
     "cell_type": "markdown",
     "checksum": "1b1e5b0d9e2623d665fb30c8d9d43c10",
     "grade": false,
     "grade_id": "cell-17f45e598a09e1f9",
     "locked": true,
     "schema_version": 3,
     "solution": false,
     "task": false
    }
   },
   "source": [
    "## Question 3 (10%)\n",
    "What is daily average fine given out?"
   ]
  },
  {
   "cell_type": "code",
   "execution_count": 15,
   "metadata": {
    "deletable": false,
    "nbgrader": {
     "cell_type": "code",
     "checksum": "6906ce5a534c634b766637f8e0d9b885",
     "grade": true,
     "grade_id": "cell-9e7d43b2b0ae8d27",
     "locked": false,
     "points": 8,
     "schema_version": 3,
     "solution": true,
     "task": false
    }
   },
   "outputs": [
    {
     "data": {
      "text/plain": [
       "9202.97"
      ]
     },
     "execution_count": 15,
     "metadata": {},
     "output_type": "execute_result"
    }
   ],
   "source": [
    "def avg_fine(df):\n",
    "    \n",
    "    df_dates = df[df['Issue Date '].isna() == False]\n",
    "    date_count = df['Issue Date '].nunique()\n",
    "    df_fines = df[' Fine '].sum()\n",
    "    \n",
    "    return round((float(df_fines) / float(date_count)), 2)\n",
    "    \n",
    "avg_fine(df)"
   ]
  },
  {
   "cell_type": "markdown",
   "metadata": {
    "deletable": false,
    "editable": false,
    "nbgrader": {
     "cell_type": "markdown",
     "checksum": "45a5a57945c4cf3ae40a35d8e524a910",
     "grade": false,
     "grade_id": "cell-22ee3e7e62663afc",
     "locked": true,
     "schema_version": 3,
     "solution": false,
     "task": false
    }
   },
   "source": [
    "## Question 4 (5%)\n",
    "What is the total amount of fines given out?"
   ]
  },
  {
   "cell_type": "code",
   "execution_count": 16,
   "metadata": {
    "deletable": false,
    "nbgrader": {
     "cell_type": "code",
     "checksum": "78b89ee83461a9380ee9e38c171b35eb",
     "grade": true,
     "grade_id": "cell-ab723feae932b6dc",
     "locked": false,
     "points": 4,
     "schema_version": 3,
     "solution": true,
     "task": false
    }
   },
   "outputs": [
    {
     "data": {
      "text/plain": [
       "327226"
      ]
     },
     "execution_count": 16,
     "metadata": {},
     "output_type": "execute_result"
    }
   ],
   "source": [
    "def tot_fines(df):\n",
    "    return (df[' Fine '] > 0).value_counts()[1]\n",
    "\n",
    "tot_fines(df)"
   ]
  },
  {
   "cell_type": "markdown",
   "metadata": {
    "deletable": false,
    "editable": false,
    "nbgrader": {
     "cell_type": "markdown",
     "checksum": "508ce53069f4b4328631f577bd38d578",
     "grade": false,
     "grade_id": "cell-f3afecea8f50cb86",
     "locked": true,
     "schema_version": 3,
     "solution": false,
     "task": false
    }
   },
   "source": [
    "## Question 5 (15%)\n",
    "Modify your `DataFrame` to have a multiindex where the outermost level is the date/time the ticket was given and the inner most level is the unique ticket identifier"
   ]
  },
  {
   "cell_type": "code",
   "execution_count": 17,
   "metadata": {
    "deletable": false,
    "nbgrader": {
     "cell_type": "code",
     "checksum": "806e896f7397850ebd5ef849f40d7c78",
     "grade": true,
     "grade_id": "cell-f2e3725dfc5b82d4",
     "locked": false,
     "points": 12,
     "schema_version": 3,
     "solution": true,
     "task": false
    }
   },
   "outputs": [
    {
     "data": {
      "text/plain": [
       "array(['Ticket #', 'Badge', 'Issue Date ', 'IssueTime', 'Plate', 'State',\n",
       "       'Make', 'Model', 'Violation', ' Description', 'Location', 'Meter',\n",
       "       ' Fine ', 'Penalty', '2080012374', '805',\n",
       "       datetime.datetime(2015, 5, 22, 0, 0), '1611', 'CAN7802', 'MI',\n",
       "       'FORD', 'Unnamed: 7', 'A01', 'EXPIRED METER',\n",
       "       '1300 BLK OF ANN EAST', '5040B', 10, 0, '2050014117', '822',\n",
       "       datetime.datetime(2015, 10, 27, 0, 0), '1324', 'DHQ0187',\n",
       "       '200 BLK OF ASHLEY SO', '2377', 20, 40, '2050020043', '815',\n",
       "       datetime.datetime(2016, 5, 5, 0, 0), '1435', 'AUZDST', 'A02',\n",
       "       'PRK OVR LGL LMT', '500 BLK OF LINDEN', 'Unnamed: 11', 25,\n",
       "       '3100008919', '262', datetime.datetime(2016, 10, 12, 0, 0), '1618',\n",
       "       '3JMY14', 'JEEP', 'M01', 'M69 LOT', '1', 6, '2100023698', '803',\n",
       "       datetime.datetime(2017, 5, 4, 0, 0), '1018', 'DJZ7026', 'ACUR',\n",
       "       'A04', 'NO PRKNG ANYTME', '200 BLK OF LIBERTY E', '4020002301',\n",
       "       '860', datetime.datetime(2017, 10, 4, 0, 0), '1033', 'DGB5082',\n",
       "       'A08', 'LOADING ZONE', '300 BLK OF FOURTH AV', 45, '9060002729',\n",
       "       '269', datetime.datetime(2018, 5, 29, 0, 0), '1138', 'BYH2640',\n",
       "       'NISS', 'M30', 'NO PERMITS U/M', 'W MED CENTER DR', '4070007565',\n",
       "       datetime.datetime(2018, 10, 27, 0, 0), '1054', 'DHP2232', 'HOND',\n",
       "       '200 BLK OF OBSERVATO', '5335', 15, '4110015921', '828',\n",
       "       datetime.datetime(2019, 6, 3, 0, 0), '1012', 'C6656602', 'LOT 6',\n",
       "       '6336', '4130019175', '832', datetime.datetime(2019, 11, 13, 0, 0),\n",
       "       '1022', 'DHR7275', 'CADI', '200 BLK OF FIFTH AVE', '2876', 55],\n",
       "      dtype=object)"
      ]
     },
     "execution_count": 17,
     "metadata": {},
     "output_type": "execute_result"
    }
   ],
   "source": [
    "df.keys().values"
   ]
  },
  {
   "cell_type": "code",
   "execution_count": 18,
   "metadata": {},
   "outputs": [
    {
     "data": {
      "text/html": [
       "<div>\n",
       "<style scoped>\n",
       "    .dataframe tbody tr th:only-of-type {\n",
       "        vertical-align: middle;\n",
       "    }\n",
       "\n",
       "    .dataframe tbody tr th {\n",
       "        vertical-align: top;\n",
       "    }\n",
       "\n",
       "    .dataframe thead th {\n",
       "        text-align: right;\n",
       "    }\n",
       "</style>\n",
       "<table border=\"1\" class=\"dataframe\">\n",
       "  <thead>\n",
       "    <tr style=\"text-align: right;\">\n",
       "      <th></th>\n",
       "      <th></th>\n",
       "      <th></th>\n",
       "      <th>Badge</th>\n",
       "      <th>Plate</th>\n",
       "      <th>State</th>\n",
       "      <th>Make</th>\n",
       "      <th>Model</th>\n",
       "      <th>Violation</th>\n",
       "      <th>Description</th>\n",
       "      <th>Location</th>\n",
       "      <th>Meter</th>\n",
       "      <th>Fine</th>\n",
       "      <th>...</th>\n",
       "      <th>6336</th>\n",
       "      <th>4130019175</th>\n",
       "      <th>832</th>\n",
       "      <th>2019-11-13 00:00:00</th>\n",
       "      <th>1022</th>\n",
       "      <th>DHR7275</th>\n",
       "      <th>CADI</th>\n",
       "      <th>200 BLK OF FIFTH AVE</th>\n",
       "      <th>2876</th>\n",
       "      <th>55</th>\n",
       "    </tr>\n",
       "    <tr>\n",
       "      <th>Issue Date</th>\n",
       "      <th>IssueTime</th>\n",
       "      <th>Ticket #</th>\n",
       "      <th></th>\n",
       "      <th></th>\n",
       "      <th></th>\n",
       "      <th></th>\n",
       "      <th></th>\n",
       "      <th></th>\n",
       "      <th></th>\n",
       "      <th></th>\n",
       "      <th></th>\n",
       "      <th></th>\n",
       "      <th></th>\n",
       "      <th></th>\n",
       "      <th></th>\n",
       "      <th></th>\n",
       "      <th></th>\n",
       "      <th></th>\n",
       "      <th></th>\n",
       "      <th></th>\n",
       "      <th></th>\n",
       "      <th></th>\n",
       "      <th></th>\n",
       "    </tr>\n",
       "  </thead>\n",
       "  <tbody>\n",
       "    <tr>\n",
       "      <th>2015-01-01</th>\n",
       "      <th>2214.0</th>\n",
       "      <th>H000210594</th>\n",
       "      <td>36</td>\n",
       "      <td>LAS5658</td>\n",
       "      <td>OH</td>\n",
       "      <td>SUBA</td>\n",
       "      <td>NaN</td>\n",
       "      <td>A04</td>\n",
       "      <td>NO PRKNG ANYTME</td>\n",
       "      <td>525 ELM</td>\n",
       "      <td>NaN</td>\n",
       "      <td>35.0</td>\n",
       "      <td>...</td>\n",
       "      <td>NaN</td>\n",
       "      <td>NaN</td>\n",
       "      <td>NaN</td>\n",
       "      <td>NaT</td>\n",
       "      <td>NaN</td>\n",
       "      <td>NaN</td>\n",
       "      <td>NaN</td>\n",
       "      <td>NaN</td>\n",
       "      <td>NaN</td>\n",
       "      <td>NaN</td>\n",
       "    </tr>\n",
       "    <tr>\n",
       "      <th rowspan=\"4\" valign=\"top\">2015-01-02</th>\n",
       "      <th>824.0</th>\n",
       "      <th>2100005782</th>\n",
       "      <td>821</td>\n",
       "      <td>DEZ4465</td>\n",
       "      <td>MI</td>\n",
       "      <td>FORD</td>\n",
       "      <td>NaN</td>\n",
       "      <td>A01</td>\n",
       "      <td>EXPIRED METER</td>\n",
       "      <td>600 BLK OF STATE SOU</td>\n",
       "      <td>4006A</td>\n",
       "      <td>10.0</td>\n",
       "      <td>...</td>\n",
       "      <td>NaN</td>\n",
       "      <td>NaN</td>\n",
       "      <td>NaN</td>\n",
       "      <td>NaT</td>\n",
       "      <td>NaN</td>\n",
       "      <td>NaN</td>\n",
       "      <td>NaN</td>\n",
       "      <td>NaN</td>\n",
       "      <td>NaN</td>\n",
       "      <td>NaN</td>\n",
       "    </tr>\n",
       "    <tr>\n",
       "      <th>1719.0</th>\n",
       "      <th>2110008524</th>\n",
       "      <td>826</td>\n",
       "      <td>DCM1327</td>\n",
       "      <td>MI</td>\n",
       "      <td>SATU</td>\n",
       "      <td>NaN</td>\n",
       "      <td>A01</td>\n",
       "      <td>EXPIRED METER</td>\n",
       "      <td>FARMER'S MARKET</td>\n",
       "      <td>17</td>\n",
       "      <td>10.0</td>\n",
       "      <td>...</td>\n",
       "      <td>NaN</td>\n",
       "      <td>NaN</td>\n",
       "      <td>NaN</td>\n",
       "      <td>NaT</td>\n",
       "      <td>NaN</td>\n",
       "      <td>NaN</td>\n",
       "      <td>NaN</td>\n",
       "      <td>NaN</td>\n",
       "      <td>NaN</td>\n",
       "      <td>NaN</td>\n",
       "    </tr>\n",
       "    <tr>\n",
       "      <th>1725.0</th>\n",
       "      <th>2110008525</th>\n",
       "      <td>826</td>\n",
       "      <td>BAX385</td>\n",
       "      <td>IA</td>\n",
       "      <td>CHEV</td>\n",
       "      <td>NaN</td>\n",
       "      <td>A01</td>\n",
       "      <td>EXPIRED METER</td>\n",
       "      <td>FARMER'S MARKET</td>\n",
       "      <td>35</td>\n",
       "      <td>10.0</td>\n",
       "      <td>...</td>\n",
       "      <td>NaN</td>\n",
       "      <td>NaN</td>\n",
       "      <td>NaN</td>\n",
       "      <td>NaT</td>\n",
       "      <td>NaN</td>\n",
       "      <td>NaN</td>\n",
       "      <td>NaN</td>\n",
       "      <td>NaN</td>\n",
       "      <td>NaN</td>\n",
       "      <td>NaN</td>\n",
       "    </tr>\n",
       "    <tr>\n",
       "      <th>1344.0</th>\n",
       "      <th>2100005834</th>\n",
       "      <td>821</td>\n",
       "      <td>2LEH1</td>\n",
       "      <td>MI</td>\n",
       "      <td>FORD</td>\n",
       "      <td>NaN</td>\n",
       "      <td>A04</td>\n",
       "      <td>NO PRKNG ANYTME</td>\n",
       "      <td>600 BLK OF WILLIAM E</td>\n",
       "      <td>NaN</td>\n",
       "      <td>25.0</td>\n",
       "      <td>...</td>\n",
       "      <td>NaN</td>\n",
       "      <td>NaN</td>\n",
       "      <td>NaN</td>\n",
       "      <td>NaT</td>\n",
       "      <td>NaN</td>\n",
       "      <td>NaN</td>\n",
       "      <td>NaN</td>\n",
       "      <td>NaN</td>\n",
       "      <td>NaN</td>\n",
       "      <td>NaN</td>\n",
       "    </tr>\n",
       "  </tbody>\n",
       "</table>\n",
       "<p>5 rows × 105 columns</p>\n",
       "</div>"
      ],
      "text/plain": [
       "                                 Badge    Plate State  Make Model Violation  \\\n",
       "Issue Date  IssueTime Ticket #                                                \n",
       "2015-01-01  2214.0    H000210594    36  LAS5658    OH  SUBA   NaN       A04   \n",
       "2015-01-02  824.0     2100005782   821  DEZ4465    MI  FORD   NaN       A01   \n",
       "            1719.0    2110008524   826  DCM1327    MI  SATU   NaN       A01   \n",
       "            1725.0    2110008525   826   BAX385    IA  CHEV   NaN       A01   \n",
       "            1344.0    2100005834   821    2LEH1    MI  FORD   NaN       A04   \n",
       "\n",
       "                                      Description              Location  \\\n",
       "Issue Date  IssueTime Ticket #                                            \n",
       "2015-01-01  2214.0    H000210594  NO PRKNG ANYTME               525 ELM   \n",
       "2015-01-02  824.0     2100005782    EXPIRED METER  600 BLK OF STATE SOU   \n",
       "            1719.0    2110008524    EXPIRED METER       FARMER'S MARKET   \n",
       "            1725.0    2110008525    EXPIRED METER       FARMER'S MARKET   \n",
       "            1344.0    2100005834  NO PRKNG ANYTME  600 BLK OF WILLIAM E   \n",
       "\n",
       "                                  Meter   Fine   ...  6336 4130019175 832  \\\n",
       "Issue Date  IssueTime Ticket #                   ...                        \n",
       "2015-01-01  2214.0    H000210594    NaN    35.0  ...   NaN        NaN NaN   \n",
       "2015-01-02  824.0     2100005782  4006A    10.0  ...   NaN        NaN NaN   \n",
       "            1719.0    2110008524     17    10.0  ...   NaN        NaN NaN   \n",
       "            1725.0    2110008525     35    10.0  ...   NaN        NaN NaN   \n",
       "            1344.0    2100005834    NaN    25.0  ...   NaN        NaN NaN   \n",
       "\n",
       "                                 2019-11-13 00:00:00  1022 DHR7275 CADI  \\\n",
       "Issue Date  IssueTime Ticket #                                            \n",
       "2015-01-01  2214.0    H000210594                 NaT   NaN     NaN  NaN   \n",
       "2015-01-02  824.0     2100005782                 NaT   NaN     NaN  NaN   \n",
       "            1719.0    2110008524                 NaT   NaN     NaN  NaN   \n",
       "            1725.0    2110008525                 NaT   NaN     NaN  NaN   \n",
       "            1344.0    2100005834                 NaT   NaN     NaN  NaN   \n",
       "\n",
       "                                 200 BLK OF FIFTH AVE 2876  55  \n",
       "Issue Date  IssueTime Ticket #                                  \n",
       "2015-01-01  2214.0    H000210594                  NaN  NaN NaN  \n",
       "2015-01-02  824.0     2100005782                  NaN  NaN NaN  \n",
       "            1719.0    2110008524                  NaN  NaN NaN  \n",
       "            1725.0    2110008525                  NaN  NaN NaN  \n",
       "            1344.0    2100005834                  NaN  NaN NaN  \n",
       "\n",
       "[5 rows x 105 columns]"
      ]
     },
     "execution_count": 18,
     "metadata": {},
     "output_type": "execute_result"
    }
   ],
   "source": [
    "df = df.set_index(['Issue Date ', 'IssueTime', 'Ticket #'])\n",
    "df.head()"
   ]
  },
  {
   "cell_type": "markdown",
   "metadata": {
    "deletable": false,
    "editable": false,
    "nbgrader": {
     "cell_type": "markdown",
     "checksum": "5af6cf952a0d509b0b0ddc733a6f71cb",
     "grade": false,
     "grade_id": "cell-b119732ba8129c01",
     "locked": true,
     "schema_version": 3,
     "solution": false,
     "task": false
    }
   },
   "source": [
    "## Question 6 (5%)\n",
    "What is the most common make of car which received tickets from the state of NY?"
   ]
  },
  {
   "cell_type": "code",
   "execution_count": 19,
   "metadata": {
    "deletable": false,
    "nbgrader": {
     "cell_type": "code",
     "checksum": "d753ab7e5feb1bb114c7593e54ce5042",
     "grade": true,
     "grade_id": "cell-63f9c3ec0803d69f",
     "locked": false,
     "points": 4,
     "schema_version": 3,
     "solution": true,
     "task": false
    }
   },
   "outputs": [],
   "source": [
    "df = load_ticket_data()\n",
    "def common_car_make(df):\n",
    "    new_df = df[df['State'] == 'NY']\n",
    "    car_totals = new_df.groupby('Make')['Ticket #'].count()\n",
    "    most_common = car_totals.idxmax()\n",
    "    return most_common"
   ]
  },
  {
   "cell_type": "code",
   "execution_count": 20,
   "metadata": {},
   "outputs": [
    {
     "data": {
      "text/plain": [
       "'JEEP'"
      ]
     },
     "execution_count": 20,
     "metadata": {},
     "output_type": "execute_result"
    }
   ],
   "source": [
    "common_car_make(df)"
   ]
  },
  {
   "cell_type": "markdown",
   "metadata": {
    "deletable": false,
    "editable": false,
    "nbgrader": {
     "cell_type": "markdown",
     "checksum": "86dfa3a29d9c71b394c5fbe062a4b5ad",
     "grade": false,
     "grade_id": "cell-56602f98f16a722b",
     "locked": true,
     "schema_version": 3,
     "solution": false,
     "task": false
    }
   },
   "source": [
    "## Question 7 (10%)\n",
    "Which officer gave out the most number of tickets in each year, and how many tickets did they give out?"
   ]
  },
  {
   "cell_type": "code",
   "execution_count": 21,
   "metadata": {
    "deletable": false,
    "nbgrader": {
     "cell_type": "code",
     "checksum": "504737785628c480d82f405ace9518ac",
     "grade": true,
     "grade_id": "cell-afdf228bf9c2e71a",
     "locked": false,
     "points": 8,
     "schema_version": 3,
     "solution": true,
     "task": false
    }
   },
   "outputs": [
    {
     "name": "stderr",
     "output_type": "stream",
     "text": [
      "/opt/conda/lib/python3.7/site-packages/ipykernel_launcher.py:7: FutureWarning: get_value is deprecated and will be removed in a future release. Please use .at[] or .iat[] accessors instead\n",
      "  import sys\n"
     ]
    },
    {
     "data": {
      "text/plain": [
       "{'Badge': 827.0, 'Number of tickets': 22305}"
      ]
     },
     "execution_count": 21,
     "metadata": {},
     "output_type": "execute_result"
    }
   ],
   "source": [
    "def officer_tickets(df):\n",
    "    officers = df.groupby(['Badge'])\n",
    "    officer_tickets = pd.DataFrame(officers.size(), columns=['Number of Tickets'])\n",
    "    officer_tickets = officer_tickets.sort_values(by=['Number of Tickets'], ascending = False)\n",
    "    \n",
    "    badge = officer_tickets.first_valid_index()\n",
    "    num_tickets = officer_tickets.get_value(badge, 'Number of Tickets')\n",
    "    \n",
    "    return {'Badge': badge,\n",
    "           'Number of tickets': num_tickets\n",
    "           }\n",
    "\n",
    "officer_tickets(df)"
   ]
  },
  {
   "cell_type": "markdown",
   "metadata": {
    "deletable": false,
    "editable": false,
    "nbgrader": {
     "cell_type": "markdown",
     "checksum": "de8620adff3f773924e1d49eff7bb3b8",
     "grade": false,
     "grade_id": "cell-fa8c103a22405ed2",
     "locked": true,
     "schema_version": 3,
     "solution": false,
     "task": false
    }
   },
   "source": [
    "## Question 8 (15%)\n",
    "Starting in 2004 Michigan moved to issuing plates with the format of ABC1234. That got me thinking, I wonder how many vanity plate holders there are in our dataset? Count for me the number of Michigan vehicles which have received a ticket which are in the following formats:\n",
    "- ABC1234\n",
    "- ABC123\n",
    "- 123ABC\n",
    "- Something else"
   ]
  },
  {
   "cell_type": "code",
   "execution_count": 22,
   "metadata": {
    "deletable": false,
    "nbgrader": {
     "cell_type": "code",
     "checksum": "dc5316832b476cbe916e5c4d238e2ad6",
     "grade": true,
     "grade_id": "cell-d05c4f0e900a7812",
     "locked": false,
     "points": 12,
     "schema_version": 3,
     "solution": true,
     "task": false
    }
   },
   "outputs": [
    {
     "name": "stdout",
     "output_type": "stream",
     "text": [
      "There are 195333 Michigan plates that fit the ABC1234 format\n",
      "There are 16548 Michigan plates that fit the ABC123 format\n",
      "There are 96 Michigan plates that fit the 123ABC format\n",
      "There are 70870 Michigan plates that do not fit any of the given formats\n"
     ]
    }
   ],
   "source": [
    "import re\n",
    "\n",
    "df_mich = df[df[\"State\"] == \"MI\"]\n",
    "\n",
    "df_mich_ABC1234 = pd.Series(df_mich[\"Plate\"]).str.count(r\"[A-Z]{3}[\\d]{4}$\")\n",
    "df_mich_ABC123 = pd.Series(df_mich[\"Plate\"]).str.count(r\"[A-Z]{3}[\\d]{3}$\")\n",
    "df_mich_123ABC = pd.Series(df_mich[\"Plate\"]).str.count(r\"[\\d]{3}[A-Z]{3}$\")\n",
    "print(\"There are \" + str(df_mich_ABC1234.value_counts()[1.0]) + \" Michigan plates that fit the ABC1234 format\")\n",
    "\n",
    "print(\"There are \" + str(df_mich_ABC123.value_counts()[1.0]) + \" Michigan plates that fit the ABC123 format\")\n",
    "print(\"There are \" + str(df_mich_123ABC.value_counts()[1.0]) + \" Michigan plates that fit the 123ABC format\")\n",
    "formatted_total = sum([df_mich_ABC1234.value_counts()[1.0], df_mich_ABC123.value_counts()[1.0], df_mich_123ABC.value_counts()[1.0]])\n",
    "print(\"There are \" + str(len(df_mich)-formatted_total) + \" Michigan plates that do not fit any of the given formats\")"
   ]
  },
  {
   "cell_type": "markdown",
   "metadata": {
    "deletable": false,
    "editable": false,
    "nbgrader": {
     "cell_type": "markdown",
     "checksum": "cdbe220732a7fe61eff4e31e72716540",
     "grade": false,
     "grade_id": "cell-daccee095e0c207d",
     "locked": true,
     "schema_version": 3,
     "solution": false,
     "task": false
    }
   },
   "source": [
    "## Question 9 (10%)\n",
    "A buddy of mine who is kind of lame liked to play a game on the road that went like this, each time you see a license plate you add up in your head the value of the plate, where numbers are worth their face value, and letters are worth whatever their position is in the alphabet. For instance, a plate with `AAA111` would be worth six points, `1+1+1+1+1+1`, but the plate `ABC123` would be worth 12 points, as in`1+2+3+1+2+3`. Implement this algorithm and add a new column to the `DataFrame` called `plate_points` which is the points for each plate in the dataset."
   ]
  },
  {
   "cell_type": "code",
   "execution_count": 23,
   "metadata": {
    "deletable": false,
    "nbgrader": {
     "cell_type": "code",
     "checksum": "909c271cf1bb2b7bfb79d061a7c46f2d",
     "grade": true,
     "grade_id": "cell-cc1d6adafebe9efa",
     "locked": false,
     "points": 8,
     "schema_version": 3,
     "solution": true,
     "task": false
    }
   },
   "outputs": [
    {
     "data": {
      "text/html": [
       "<div>\n",
       "<style scoped>\n",
       "    .dataframe tbody tr th:only-of-type {\n",
       "        vertical-align: middle;\n",
       "    }\n",
       "\n",
       "    .dataframe tbody tr th {\n",
       "        vertical-align: top;\n",
       "    }\n",
       "\n",
       "    .dataframe thead th {\n",
       "        text-align: right;\n",
       "    }\n",
       "</style>\n",
       "<table border=\"1\" class=\"dataframe\">\n",
       "  <thead>\n",
       "    <tr style=\"text-align: right;\">\n",
       "      <th></th>\n",
       "      <th>Ticket #</th>\n",
       "      <th>Badge</th>\n",
       "      <th>Issue Date</th>\n",
       "      <th>IssueTime</th>\n",
       "      <th>Plate</th>\n",
       "      <th>State</th>\n",
       "      <th>Make</th>\n",
       "      <th>Model</th>\n",
       "      <th>Violation</th>\n",
       "      <th>Description</th>\n",
       "      <th>...</th>\n",
       "      <th>4130019175</th>\n",
       "      <th>832</th>\n",
       "      <th>2019-11-13 00:00:00</th>\n",
       "      <th>1022</th>\n",
       "      <th>DHR7275</th>\n",
       "      <th>CADI</th>\n",
       "      <th>200 BLK OF FIFTH AVE</th>\n",
       "      <th>2876</th>\n",
       "      <th>55</th>\n",
       "      <th>plate_points</th>\n",
       "    </tr>\n",
       "  </thead>\n",
       "  <tbody>\n",
       "    <tr>\n",
       "      <th>0</th>\n",
       "      <td>H000210594</td>\n",
       "      <td>36</td>\n",
       "      <td>2015-01-01</td>\n",
       "      <td>2214</td>\n",
       "      <td>LAS5658</td>\n",
       "      <td>OH</td>\n",
       "      <td>SUBA</td>\n",
       "      <td>NaN</td>\n",
       "      <td>A04</td>\n",
       "      <td>NO PRKNG ANYTME</td>\n",
       "      <td>...</td>\n",
       "      <td>NaN</td>\n",
       "      <td>NaN</td>\n",
       "      <td>NaT</td>\n",
       "      <td>NaN</td>\n",
       "      <td>NaN</td>\n",
       "      <td>NaN</td>\n",
       "      <td>NaN</td>\n",
       "      <td>NaN</td>\n",
       "      <td>NaN</td>\n",
       "      <td>56</td>\n",
       "    </tr>\n",
       "    <tr>\n",
       "      <th>1</th>\n",
       "      <td>2100005782</td>\n",
       "      <td>821</td>\n",
       "      <td>2015-01-02</td>\n",
       "      <td>824</td>\n",
       "      <td>DEZ4465</td>\n",
       "      <td>MI</td>\n",
       "      <td>FORD</td>\n",
       "      <td>NaN</td>\n",
       "      <td>A01</td>\n",
       "      <td>EXPIRED METER</td>\n",
       "      <td>...</td>\n",
       "      <td>NaN</td>\n",
       "      <td>NaN</td>\n",
       "      <td>NaT</td>\n",
       "      <td>NaN</td>\n",
       "      <td>NaN</td>\n",
       "      <td>NaN</td>\n",
       "      <td>NaN</td>\n",
       "      <td>NaN</td>\n",
       "      <td>NaN</td>\n",
       "      <td>54</td>\n",
       "    </tr>\n",
       "    <tr>\n",
       "      <th>2</th>\n",
       "      <td>2110008524</td>\n",
       "      <td>826</td>\n",
       "      <td>2015-01-02</td>\n",
       "      <td>1719</td>\n",
       "      <td>DCM1327</td>\n",
       "      <td>MI</td>\n",
       "      <td>SATU</td>\n",
       "      <td>NaN</td>\n",
       "      <td>A01</td>\n",
       "      <td>EXPIRED METER</td>\n",
       "      <td>...</td>\n",
       "      <td>NaN</td>\n",
       "      <td>NaN</td>\n",
       "      <td>NaT</td>\n",
       "      <td>NaN</td>\n",
       "      <td>NaN</td>\n",
       "      <td>NaN</td>\n",
       "      <td>NaN</td>\n",
       "      <td>NaN</td>\n",
       "      <td>NaN</td>\n",
       "      <td>33</td>\n",
       "    </tr>\n",
       "    <tr>\n",
       "      <th>3</th>\n",
       "      <td>2110008525</td>\n",
       "      <td>826</td>\n",
       "      <td>2015-01-02</td>\n",
       "      <td>1725</td>\n",
       "      <td>BAX385</td>\n",
       "      <td>IA</td>\n",
       "      <td>CHEV</td>\n",
       "      <td>NaN</td>\n",
       "      <td>A01</td>\n",
       "      <td>EXPIRED METER</td>\n",
       "      <td>...</td>\n",
       "      <td>NaN</td>\n",
       "      <td>NaN</td>\n",
       "      <td>NaT</td>\n",
       "      <td>NaN</td>\n",
       "      <td>NaN</td>\n",
       "      <td>NaN</td>\n",
       "      <td>NaN</td>\n",
       "      <td>NaN</td>\n",
       "      <td>NaN</td>\n",
       "      <td>43</td>\n",
       "    </tr>\n",
       "    <tr>\n",
       "      <th>4</th>\n",
       "      <td>2100005834</td>\n",
       "      <td>821</td>\n",
       "      <td>2015-01-02</td>\n",
       "      <td>1344</td>\n",
       "      <td>2LEH1</td>\n",
       "      <td>MI</td>\n",
       "      <td>FORD</td>\n",
       "      <td>NaN</td>\n",
       "      <td>A04</td>\n",
       "      <td>NO PRKNG ANYTME</td>\n",
       "      <td>...</td>\n",
       "      <td>NaN</td>\n",
       "      <td>NaN</td>\n",
       "      <td>NaT</td>\n",
       "      <td>NaN</td>\n",
       "      <td>NaN</td>\n",
       "      <td>NaN</td>\n",
       "      <td>NaN</td>\n",
       "      <td>NaN</td>\n",
       "      <td>NaN</td>\n",
       "      <td>28</td>\n",
       "    </tr>\n",
       "  </tbody>\n",
       "</table>\n",
       "<p>5 rows × 109 columns</p>\n",
       "</div>"
      ],
      "text/plain": [
       "     Ticket # Badge Issue Date  IssueTime    Plate State  Make Model  \\\n",
       "0  H000210594    36  2015-01-01      2214  LAS5658    OH  SUBA   NaN   \n",
       "1  2100005782   821  2015-01-02       824  DEZ4465    MI  FORD   NaN   \n",
       "2  2110008524   826  2015-01-02      1719  DCM1327    MI  SATU   NaN   \n",
       "3  2110008525   826  2015-01-02      1725   BAX385    IA  CHEV   NaN   \n",
       "4  2100005834   821  2015-01-02      1344    2LEH1    MI  FORD   NaN   \n",
       "\n",
       "  Violation      Description  ... 4130019175 832  2019-11-13 00:00:00  1022  \\\n",
       "0       A04  NO PRKNG ANYTME  ...        NaN NaN                  NaT   NaN   \n",
       "1       A01    EXPIRED METER  ...        NaN NaN                  NaT   NaN   \n",
       "2       A01    EXPIRED METER  ...        NaN NaN                  NaT   NaN   \n",
       "3       A01    EXPIRED METER  ...        NaN NaN                  NaT   NaN   \n",
       "4       A04  NO PRKNG ANYTME  ...        NaN NaN                  NaT   NaN   \n",
       "\n",
       "  DHR7275 CADI 200 BLK OF FIFTH AVE  2876  55 plate_points  \n",
       "0     NaN  NaN                  NaN   NaN NaN           56  \n",
       "1     NaN  NaN                  NaN   NaN NaN           54  \n",
       "2     NaN  NaN                  NaN   NaN NaN           33  \n",
       "3     NaN  NaN                  NaN   NaN NaN           43  \n",
       "4     NaN  NaN                  NaN   NaN NaN           28  \n",
       "\n",
       "[5 rows x 109 columns]"
      ]
     },
     "execution_count": 23,
     "metadata": {},
     "output_type": "execute_result"
    }
   ],
   "source": [
    "plate_df = df[\"Plate\"]\n",
    "\n",
    "equivalent = {\n",
    "    \"A\" : 1,\n",
    "    \"B\" : 2,\n",
    "    \"C\" : 3, \n",
    "    \"D\" : 4,\n",
    "    \"E\" : 5,\n",
    "    \"F\" : 6, \n",
    "    \"G\" : 7,\n",
    "    \"H\" : 8,\n",
    "    \"I\" : 9,\n",
    "    \"J\" : 10,\n",
    "    \"K\" : 11, \n",
    "    \"L\" : 12, \n",
    "    \"M\" : 13,\n",
    "    \"N\" : 14,\n",
    "    \"O\" : 15,\n",
    "    \"P\" : 16, \n",
    "    \"Q\" : 17,\n",
    "    \"R\" : 18,\n",
    "    \"S\" : 19, \n",
    "    \"T\" : 20,\n",
    "    \"U\" : 21,\n",
    "    \"V\" : 22,\n",
    "    \"W\" : 23,\n",
    "    \"X\" : 24, \n",
    "    \"Y\" : 25, \n",
    "    \"Z\" : 26,\n",
    "    \"0\" : 0,\n",
    "    \"1\" : 1,\n",
    "    \"2\" : 2,\n",
    "    \"3\" : 3, \n",
    "    \"4\" : 4,\n",
    "    \"5\" : 5,\n",
    "    \"6\" : 6, \n",
    "    \"7\" : 7,\n",
    "    \"8\" : 8,\n",
    "    \"9\" : 9,\n",
    "}\n",
    "\n",
    "def get_points(plate, equivalent):\n",
    "    count = 0\n",
    "    for i in str(plate).upper():\n",
    "        count+=equivalent[i]\n",
    "    return count\n",
    "\n",
    "\n",
    "df[\"plate_points\"] = plate_df.apply(lambda x : get_points(x, equivalent))\n",
    "\n",
    "df.head()"
   ]
  },
  {
   "cell_type": "markdown",
   "metadata": {
    "deletable": false,
    "editable": false,
    "nbgrader": {
     "cell_type": "markdown",
     "checksum": "a509ecb2faab02a1f73fd9001ae75f8d",
     "grade": false,
     "grade_id": "cell-d3dcb60c106ee978",
     "locked": true,
     "schema_version": 3,
     "solution": false,
     "task": false
    }
   },
   "source": [
    "## Question 10 (5% - hard)\n",
    "Use your inginuity and create two new columns `lat` and `lon` which hold the latitude and longitude for the address for each ticket. You have flexibility to show me how you think it should be done, keeping in mind addresses won't be perfect (most are \"per block\") and there are various ways to solve this (and all involve using outside APIs or services)."
   ]
  },
  {
   "cell_type": "code",
   "execution_count": 25,
   "metadata": {
    "deletable": false,
    "nbgrader": {
     "cell_type": "code",
     "checksum": "8dd05ef017a6b9c96ca42fea26ade0cf",
     "grade": true,
     "grade_id": "cell-524d9190d3ba983e",
     "locked": false,
     "points": 4,
     "schema_version": 3,
     "solution": true,
     "task": false
    }
   },
   "outputs": [
    {
     "ename": "JSONDecodeError",
     "evalue": "Expecting value: line 1 column 1 (char 0)",
     "output_type": "error",
     "traceback": [
      "\u001b[0;31m---------------------------------------------------------------------------\u001b[0m",
      "\u001b[0;31mJSONDecodeError\u001b[0m                           Traceback (most recent call last)",
      "\u001b[0;32m<ipython-input-25-2094d2dbba5e>\u001b[0m in \u001b[0;36m<module>\u001b[0;34m\u001b[0m\n\u001b[1;32m     17\u001b[0m     \u001b[0;32melif\u001b[0m \u001b[0mrow\u001b[0m\u001b[0;34m[\u001b[0m\u001b[0;36m1\u001b[0m\u001b[0;34m]\u001b[0m\u001b[0;34m[\u001b[0m\u001b[0;34m'Location'\u001b[0m\u001b[0;34m]\u001b[0m\u001b[0;34m[\u001b[0m\u001b[0;36m1\u001b[0m\u001b[0;34m]\u001b[0m\u001b[0;34m.\u001b[0m\u001b[0misdigit\u001b[0m\u001b[0;34m(\u001b[0m\u001b[0;34m)\u001b[0m \u001b[0;34m==\u001b[0m \u001b[0;32mFalse\u001b[0m\u001b[0;34m:\u001b[0m\u001b[0;34m\u001b[0m\u001b[0;34m\u001b[0m\u001b[0m\n\u001b[1;32m     18\u001b[0m         resp = requests.get('https://www.mapquestapi.com/search/v4/place?key=TAreA6DJGYmD2WeoTT2pdUzUVg4faEyX&bbox=-83.799572,42.222668,-83.675807,42.323971&pageSize=1&sort=relevance&q='+\n\u001b[0;32m---> 19\u001b[0;31m                           row[1]['Location']).json()['results']\n\u001b[0m\u001b[1;32m     20\u001b[0m         \u001b[0;32mif\u001b[0m \u001b[0mresp\u001b[0m \u001b[0;34m==\u001b[0m \u001b[0;34m[\u001b[0m\u001b[0;34m]\u001b[0m\u001b[0;34m:\u001b[0m\u001b[0;34m\u001b[0m\u001b[0;34m\u001b[0m\u001b[0m\n\u001b[1;32m     21\u001b[0m             \u001b[0mlats\u001b[0m\u001b[0;34m.\u001b[0m\u001b[0mappend\u001b[0m\u001b[0;34m(\u001b[0m\u001b[0mnp\u001b[0m\u001b[0;34m.\u001b[0m\u001b[0mnan\u001b[0m\u001b[0;34m)\u001b[0m\u001b[0;34m\u001b[0m\u001b[0;34m\u001b[0m\u001b[0m\n",
      "\u001b[0;32m/opt/conda/lib/python3.7/site-packages/requests/models.py\u001b[0m in \u001b[0;36mjson\u001b[0;34m(self, **kwargs)\u001b[0m\n\u001b[1;32m    895\u001b[0m                     \u001b[0;31m# used.\u001b[0m\u001b[0;34m\u001b[0m\u001b[0;34m\u001b[0m\u001b[0;34m\u001b[0m\u001b[0m\n\u001b[1;32m    896\u001b[0m                     \u001b[0;32mpass\u001b[0m\u001b[0;34m\u001b[0m\u001b[0;34m\u001b[0m\u001b[0m\n\u001b[0;32m--> 897\u001b[0;31m         \u001b[0;32mreturn\u001b[0m \u001b[0mcomplexjson\u001b[0m\u001b[0;34m.\u001b[0m\u001b[0mloads\u001b[0m\u001b[0;34m(\u001b[0m\u001b[0mself\u001b[0m\u001b[0;34m.\u001b[0m\u001b[0mtext\u001b[0m\u001b[0;34m,\u001b[0m \u001b[0;34m**\u001b[0m\u001b[0mkwargs\u001b[0m\u001b[0;34m)\u001b[0m\u001b[0;34m\u001b[0m\u001b[0;34m\u001b[0m\u001b[0m\n\u001b[0m\u001b[1;32m    898\u001b[0m \u001b[0;34m\u001b[0m\u001b[0m\n\u001b[1;32m    899\u001b[0m     \u001b[0;34m@\u001b[0m\u001b[0mproperty\u001b[0m\u001b[0;34m\u001b[0m\u001b[0;34m\u001b[0m\u001b[0m\n",
      "\u001b[0;32m/opt/conda/lib/python3.7/json/__init__.py\u001b[0m in \u001b[0;36mloads\u001b[0;34m(s, encoding, cls, object_hook, parse_float, parse_int, parse_constant, object_pairs_hook, **kw)\u001b[0m\n\u001b[1;32m    346\u001b[0m             \u001b[0mparse_int\u001b[0m \u001b[0;32mis\u001b[0m \u001b[0;32mNone\u001b[0m \u001b[0;32mand\u001b[0m \u001b[0mparse_float\u001b[0m \u001b[0;32mis\u001b[0m \u001b[0;32mNone\u001b[0m \u001b[0;32mand\u001b[0m\u001b[0;34m\u001b[0m\u001b[0;34m\u001b[0m\u001b[0m\n\u001b[1;32m    347\u001b[0m             parse_constant is None and object_pairs_hook is None and not kw):\n\u001b[0;32m--> 348\u001b[0;31m         \u001b[0;32mreturn\u001b[0m \u001b[0m_default_decoder\u001b[0m\u001b[0;34m.\u001b[0m\u001b[0mdecode\u001b[0m\u001b[0;34m(\u001b[0m\u001b[0ms\u001b[0m\u001b[0;34m)\u001b[0m\u001b[0;34m\u001b[0m\u001b[0;34m\u001b[0m\u001b[0m\n\u001b[0m\u001b[1;32m    349\u001b[0m     \u001b[0;32mif\u001b[0m \u001b[0mcls\u001b[0m \u001b[0;32mis\u001b[0m \u001b[0;32mNone\u001b[0m\u001b[0;34m:\u001b[0m\u001b[0;34m\u001b[0m\u001b[0;34m\u001b[0m\u001b[0m\n\u001b[1;32m    350\u001b[0m         \u001b[0mcls\u001b[0m \u001b[0;34m=\u001b[0m \u001b[0mJSONDecoder\u001b[0m\u001b[0;34m\u001b[0m\u001b[0;34m\u001b[0m\u001b[0m\n",
      "\u001b[0;32m/opt/conda/lib/python3.7/json/decoder.py\u001b[0m in \u001b[0;36mdecode\u001b[0;34m(self, s, _w)\u001b[0m\n\u001b[1;32m    335\u001b[0m \u001b[0;34m\u001b[0m\u001b[0m\n\u001b[1;32m    336\u001b[0m         \"\"\"\n\u001b[0;32m--> 337\u001b[0;31m         \u001b[0mobj\u001b[0m\u001b[0;34m,\u001b[0m \u001b[0mend\u001b[0m \u001b[0;34m=\u001b[0m \u001b[0mself\u001b[0m\u001b[0;34m.\u001b[0m\u001b[0mraw_decode\u001b[0m\u001b[0;34m(\u001b[0m\u001b[0ms\u001b[0m\u001b[0;34m,\u001b[0m \u001b[0midx\u001b[0m\u001b[0;34m=\u001b[0m\u001b[0m_w\u001b[0m\u001b[0;34m(\u001b[0m\u001b[0ms\u001b[0m\u001b[0;34m,\u001b[0m \u001b[0;36m0\u001b[0m\u001b[0;34m)\u001b[0m\u001b[0;34m.\u001b[0m\u001b[0mend\u001b[0m\u001b[0;34m(\u001b[0m\u001b[0;34m)\u001b[0m\u001b[0;34m)\u001b[0m\u001b[0;34m\u001b[0m\u001b[0;34m\u001b[0m\u001b[0m\n\u001b[0m\u001b[1;32m    338\u001b[0m         \u001b[0mend\u001b[0m \u001b[0;34m=\u001b[0m \u001b[0m_w\u001b[0m\u001b[0;34m(\u001b[0m\u001b[0ms\u001b[0m\u001b[0;34m,\u001b[0m \u001b[0mend\u001b[0m\u001b[0;34m)\u001b[0m\u001b[0;34m.\u001b[0m\u001b[0mend\u001b[0m\u001b[0;34m(\u001b[0m\u001b[0;34m)\u001b[0m\u001b[0;34m\u001b[0m\u001b[0;34m\u001b[0m\u001b[0m\n\u001b[1;32m    339\u001b[0m         \u001b[0;32mif\u001b[0m \u001b[0mend\u001b[0m \u001b[0;34m!=\u001b[0m \u001b[0mlen\u001b[0m\u001b[0;34m(\u001b[0m\u001b[0ms\u001b[0m\u001b[0;34m)\u001b[0m\u001b[0;34m:\u001b[0m\u001b[0;34m\u001b[0m\u001b[0;34m\u001b[0m\u001b[0m\n",
      "\u001b[0;32m/opt/conda/lib/python3.7/json/decoder.py\u001b[0m in \u001b[0;36mraw_decode\u001b[0;34m(self, s, idx)\u001b[0m\n\u001b[1;32m    353\u001b[0m             \u001b[0mobj\u001b[0m\u001b[0;34m,\u001b[0m \u001b[0mend\u001b[0m \u001b[0;34m=\u001b[0m \u001b[0mself\u001b[0m\u001b[0;34m.\u001b[0m\u001b[0mscan_once\u001b[0m\u001b[0;34m(\u001b[0m\u001b[0ms\u001b[0m\u001b[0;34m,\u001b[0m \u001b[0midx\u001b[0m\u001b[0;34m)\u001b[0m\u001b[0;34m\u001b[0m\u001b[0;34m\u001b[0m\u001b[0m\n\u001b[1;32m    354\u001b[0m         \u001b[0;32mexcept\u001b[0m \u001b[0mStopIteration\u001b[0m \u001b[0;32mas\u001b[0m \u001b[0merr\u001b[0m\u001b[0;34m:\u001b[0m\u001b[0;34m\u001b[0m\u001b[0;34m\u001b[0m\u001b[0m\n\u001b[0;32m--> 355\u001b[0;31m             \u001b[0;32mraise\u001b[0m \u001b[0mJSONDecodeError\u001b[0m\u001b[0;34m(\u001b[0m\u001b[0;34m\"Expecting value\"\u001b[0m\u001b[0;34m,\u001b[0m \u001b[0ms\u001b[0m\u001b[0;34m,\u001b[0m \u001b[0merr\u001b[0m\u001b[0;34m.\u001b[0m\u001b[0mvalue\u001b[0m\u001b[0;34m)\u001b[0m \u001b[0;32mfrom\u001b[0m \u001b[0;32mNone\u001b[0m\u001b[0;34m\u001b[0m\u001b[0;34m\u001b[0m\u001b[0m\n\u001b[0m\u001b[1;32m    356\u001b[0m         \u001b[0;32mreturn\u001b[0m \u001b[0mobj\u001b[0m\u001b[0;34m,\u001b[0m \u001b[0mend\u001b[0m\u001b[0;34m\u001b[0m\u001b[0;34m\u001b[0m\u001b[0m\n",
      "\u001b[0;31mJSONDecodeError\u001b[0m: Expecting value: line 1 column 1 (char 0)"
     ]
    }
   ],
   "source": [
    "import numpy as np\n",
    "import requests\n",
    "df = pd.concat(pd.read_excel('a2tickets/AnnArbor-TicketViolation-jan2020.xls', skiprows=[0], sheet_name=None), ignore_index=True, sort=False)\n",
    "df = df[df['Location'].notna()]\n",
    "\n",
    "lats = []\n",
    "lons = []\n",
    "root_url = 'http://www.mapquestapi.com/geocoding/v1/address?key=TAreA6DJGYmD2WeoTT2pdUzUVg4faEyX&maxResults=1&location='\n",
    "for row in df.iterrows():\n",
    "    if \"LOT\" in row[1]['Location']:\n",
    "        lats.append(np.nan)\n",
    "        lons.append(np.nan)\n",
    "        continue\n",
    "    loc = row[1]['Location']\n",
    "    if 'BLK OF' in row[1]['Location']:\n",
    "        loc = \"\".join(row[1]['Location'].split(\"BLK OF \"))\n",
    "    elif row[1]['Location'][1].isdigit() == False:\n",
    "        resp = requests.get('https://www.mapquestapi.com/search/v4/place?key=TAreA6DJGYmD2WeoTT2pdUzUVg4faEyX&bbox=-83.799572,42.222668,-83.675807,42.323971&pageSize=1&sort=relevance&q='+\n",
    "                          row[1]['Location']).json()['results']\n",
    "        if resp == []:\n",
    "            lats.append(np.nan)\n",
    "            lons.append(np.nan)\n",
    "            continue\n",
    "        loc = resp[0]['displayString']\n",
    "    try:\n",
    "        lats.append(requests.get(root_url + loc + \" Ann Arbor,MI\").json()['results'][0]['locations'][0]['latLng']['lat'])\n",
    "        lons.append(requests.get(root_url + loc + \" Ann Arbor,MI\").json()['results'][0]['locations'][0]['latLng']['lng'])\n",
    "    except:\n",
    "        lats.append(np.nan)\n",
    "        lons.append(np.nan)\n",
    "df['lat'] = lats\n",
    "df['lng'] = lons\n",
    "df.to_csv(\"2020_tickets_lat_lng.csv\")"
   ]
  },
  {
   "cell_type": "code",
   "execution_count": 27,
   "metadata": {},
   "outputs": [
    {
     "data": {
      "text/plain": [
       "<matplotlib.axes._subplots.AxesSubplot at 0x7f6a1d3e7240>"
      ]
     },
     "execution_count": 27,
     "metadata": {},
     "output_type": "execute_result"
    },
    {
     "data": {
      "image/png": "[encoded data removed]",
      "text/plain": [
       "<Figure size 1080x1080 with 1 Axes>"
      ]
     },
     "metadata": {
      "needs_background": "light"
     },
     "output_type": "display_data"
    }
   ],
   "source": [
    "import matplotlib.pyplot as plt\n",
    "import descartes\n",
    "import geopandas as gpd\n",
    "from pyproj import CRS\n",
    "from shapely.geometry import Point, Polygon\n",
    "%matplotlib inline\n",
    "df = pd.read_csv(\"2020_tickets_lat_lng.csv\")\n",
    "\n",
    "geometry=[Point(xy) for xy in zip(df['lng'], df['lat'])]\n",
    "crs = CRS(\"epsg:4326\")\n",
    "geo_df = gpd.GeoDataFrame(df, crs=crs, geometry=geometry)\n",
    "geo_df = geo_df[(geo_df['lat'] > 41) & (geo_df['lat'] < 43) & (geo_df['lng'] > -84) & (geo_df['lng'] < -82)]\n",
    "fig, ax = plt.subplots(figsize=(15,15))\n",
    "geo_df.plot(ax=ax, markersize=20, color='red')"
   ]
  },
  {
   "cell_type": "code",
   "execution_count": null,
   "metadata": {},
   "outputs": [],
   "source": []
  }
 ],
 "metadata": {
  "kernelspec": {
   "display_name": "Python 3",
   "language": "python",
   "name": "python3"
  },
  "language_info": {
   "codemirror_mode": {
    "name": "ipython",
    "version": 3
   },
   "file_extension": ".py",
   "mimetype": "text/x-python",
   "name": "python",
   "nbconvert_exporter": "python",
   "pygments_lexer": "ipython3",
   "version": "3.7.3"
  }
 },
 "nbformat": 4,
 "nbformat_minor": 4
}
